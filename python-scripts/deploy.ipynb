{
 "cells": [
  {
   "cell_type": "code",
   "execution_count": 1,
   "id": "30b8dd6b-5a32-443e-be7b-d23c388568f6",
   "metadata": {
    "tags": []
   },
   "outputs": [],
   "source": [
    "import tarfile\n",
    "with tarfile.open('model.tar.gz', 'w:gz') as f:\n",
    "    t = tarfile.TarInfo('models')\n",
    "    t.type = tarfile.DIRTYPE\n",
    "    f.addfile(t)\n",
    "    f.add('fastai_model_resnet50.pkl', arcname='fastai_model_resnet50.pkl')"
   ]
  },
  {
   "cell_type": "code",
   "execution_count": 4,
   "id": "e15176d4-a940-4a0d-ad9d-62edf0d35fd4",
   "metadata": {
    "tags": []
   },
   "outputs": [
    {
     "name": "stdout",
     "output_type": "stream",
     "text": [
      "Uploaded\n"
     ]
    }
   ],
   "source": [
    "import sagemaker\n",
    "from sagemaker.utils import name_from_base\n",
    "sagemaker_session = sagemaker.Session()\n",
    "bucket = sagemaker_session.default_bucket()\n",
    "prefix = f'sagemaker/{name_from_base(\"fastai-model-resnet50\")}'\n",
    "model_artefact = sagemaker_session.upload_data(path='model.tar.gz', bucket=bucket, key_prefix=prefix)\n",
    "print('Uploaded')"
   ]
  },
  {
   "cell_type": "code",
   "execution_count": 45,
   "id": "acf18e9a-94cc-4d81-becf-92a67d663ea6",
   "metadata": {
    "tags": []
   },
   "outputs": [],
   "source": [
    "from sagemaker.predictor import Predictor, json_deserializer\n",
    "\n",
    "class PredictorConfig(Predictor):\n",
    "    def __init__(self, endpoint_name, sagemaker_session):\n",
    "        super().__init__(endpoint_name, sagemaker_session=sagemaker_session, serializer=None, \n",
    "                         deserializer=json_deserializer)"
   ]
  },
  {
   "cell_type": "code",
   "execution_count": 46,
   "id": "bbbb1b5d-d79b-4dba-987b-7c1eb3da7f14",
   "metadata": {
    "tags": []
   },
   "outputs": [],
   "source": [
    "import sagemaker\n",
    "role = sagemaker.get_execution_role()"
   ]
  },
  {
   "cell_type": "code",
   "execution_count": 57,
   "id": "3a48d0d8-8ad9-47e4-aa90-d790dd08f247",
   "metadata": {
    "tags": []
   },
   "outputs": [
    {
     "name": "stdout",
     "output_type": "stream",
     "text": [
      "-------------!"
     ]
    }
   ],
   "source": [
    "from sagemaker.pytorch import PyTorch, PyTorchModel\n",
    "\n",
    "model=PyTorchModel(model_data=model_artefact, name=name_from_base(\"fastai-model-resnet50\"),\n",
    "    role=role, entry_point='serve.py', framework_version=\"2.0\", py_version=\"py310\", predictor_cls=PredictorConfig, source_dir='src')\n",
    "\n",
    "predictor = model.deploy(initial_instance_count=1, instance_type='ml.t2.medium')"
   ]
  }
 ],
 "metadata": {
  "kernelspec": {
   "display_name": "conda_pytorch_p39",
   "language": "python",
   "name": "conda_pytorch_p39"
  },
  "language_info": {
   "codemirror_mode": {
    "name": "ipython",
    "version": 3
   },
   "file_extension": ".py",
   "mimetype": "text/x-python",
   "name": "python",
   "nbconvert_exporter": "python",
   "pygments_lexer": "ipython3",
   "version": "3.9.15"
  }
 },
 "nbformat": 4,
 "nbformat_minor": 5
}
